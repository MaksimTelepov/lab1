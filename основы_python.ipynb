{
  "cells": [
    {
      "cell_type": "markdown",
      "metadata": {
        "id": "M-DGa20PaHnu"
      },
      "source": [
        "#Задача 1\n",
        "Написать функцию на вход которой подается строка, состоящая из латинских букв.\n",
        "Функция должна вернуть количество гласных букв (a, e, i, o, u) в этой строке. Написать тесты для кода"
      ]
    },
    {
      "cell_type": "code",
      "execution_count": 18,
      "metadata": {
        "id": "XvX8X_JJ6PCb"
      },
      "outputs": [],
      "source": [
        "def count_vowels(s):\n",
        "    vowels = {'a', 'e', 'i', 'o', 'u'}\n",
        "    return sum(1 for c in s.lower() if c in vowels)\n",
        "\n",
        "# Тесты для задачи 1\n",
        "assert count_vowels(\"hello\") == 2\n",
        "assert count_vowels(\"aeiou\") == 5\n",
        "assert count_vowels(\"BCDFG\") == 0\n",
        "assert count_vowels(\"Aa\") == 2\n",
        "assert count_vowels(\"\") == 0\n"
      ]
    },
    {
      "cell_type": "markdown",
      "metadata": {
        "id": "t2ClV_Y0bbr6"
      },
      "source": [
        "# Задача 2\n",
        "Написать функцию на вход, которой подается строка. Функция должна вернуть true, если\n",
        "каждый символ в строке встречается только 1 раз, иначе должна вернуть false. Написать тесты для кода"
      ]
    },
    {
      "cell_type": "code",
      "execution_count": 19,
      "metadata": {
        "id": "FppbECao6VIz"
      },
      "outputs": [],
      "source": [
        "def all_unique(s):\n",
        "    return len(set(s)) == len(s)\n",
        "\n",
        "# Тесты для задачи 2\n",
        "assert all_unique(\"abcd\") == True\n",
        "assert all_unique(\"abba\") == False\n",
        "assert all_unique(\"\") == True\n",
        "assert all_unique(\"a\") == True"
      ]
    },
    {
      "cell_type": "markdown",
      "metadata": {
        "id": "udRiIK1cdt6E"
      },
      "source": [
        "# Задача 3\n",
        "Написать функцию, которая принимает положительное число и возвращает количество\n",
        "бит равных 1 в этом числе. Написать тесты для кода"
      ]
    },
    {
      "cell_type": "code",
      "execution_count": 20,
      "metadata": {
        "id": "6tkfDJRz6dp_"
      },
      "outputs": [],
      "source": [
        "def count_bits(n):\n",
        "    return bin(n).count('1')\n",
        "\n",
        "# Тесты для задачи 3\n",
        "assert count_bits(0) == 0\n",
        "assert count_bits(1) == 1\n",
        "assert count_bits(3) == 2\n",
        "assert count_bits(4) == 1\n",
        "assert count_bits(7) == 3"
      ]
    },
    {
      "cell_type": "markdown",
      "metadata": {
        "id": "26dDUz-Ae17N"
      },
      "source": [
        "# Задача 4\n",
        "Написать функцию, которая принимает положительное число. Функция должна вернуть то,\n",
        "сколько раз необходимо перемножать цифры числа или результат перемножения, чтобы\n",
        "получилось число состоящее из одной цифры.\n",
        "Например, для входного числа:\n",
        "· 39 функция должна вернуть 3, так как 3*9=27 => 2*7=14 => 1*4=4\n",
        "· 4 функция должна вернуть 0, так как число уже состоит из одной цифры\n",
        "· 999 функция должна вернуть 4, так как 9*9*9=729 => 7*2*9=126 => 1*2*6=12 =>\n",
        "1*2=2. Написать тесты для кода"
      ]
    },
    {
      "cell_type": "code",
      "execution_count": 30,
      "metadata": {
        "id": "BH1A_Mgi6i4G"
      },
      "outputs": [],
      "source": [
        "def magic(n):\n",
        "    steps = 0\n",
        "    while n >= 10:\n",
        "        product = 1\n",
        "        temp = n\n",
        "        while temp > 0:\n",
        "            product *= temp % 10\n",
        "            temp = temp // 10\n",
        "        n = product\n",
        "        steps += 1\n",
        "    return steps\n",
        "\n",
        "# Тесты для задачи 4\n",
        "assert magic(39) == 3\n",
        "assert magic(4) == 0\n",
        "assert magic(999) == 4\n",
        "assert magic(25) == 2  # 2*5=10 → 1*0=0 → 2 steps"
      ]
    },
    {
      "cell_type": "markdown",
      "metadata": {
        "id": "0nS-kIa8g8vd"
      },
      "source": [
        "# Задача 5\n",
        "Написать функцию, которая принимает два целочисленных вектора одинаковой длины и\n",
        "возвращает среднеквадратическое отклонение двух векторов. Написать тесты для кода"
      ]
    },
    {
      "cell_type": "code",
      "execution_count": 2,
      "metadata": {
        "id": "8iphx4LM6xbx"
      },
      "outputs": [],
      "source": [
        "def mse(pred, true):\n",
        "    if len(pred) != len(true):\n",
        "        raise ValueError(\"Векторы должны иметь одинаковую длину.\")\n",
        "    if len(pred) == 0:\n",
        "        raise ValueError(\"Векторы не могут быть пустыми.\")\n",
        "    return sum((p - t)**2 for p, t in zip(pred, true)) / len(pred)\n",
        "# Корректные случаи\n",
        "assert mse([1, 2], [3, 4]) == 4.0\n",
        "assert mse([1.0, 2.0, 3.0], [1.0, 2.0, 3.0]) == 0.0\n",
        "\n",
        "# Некорректные случаи\n",
        "try:\n",
        "    mse([], [])\n",
        "except ValueError as e:\n",
        "    assert str(e) == \"Векторы не могут быть пустыми.\"\n",
        "\n",
        "try:\n",
        "    mse([1, 2], [3])\n",
        "except ValueError as e:\n",
        "    assert str(e) == \"Векторы должны иметь одинаковую длину.\""
      ]
    },
    {
      "cell_type": "markdown",
      "metadata": {
        "id": "vpIPKL439zkw"
      },
      "source": [
        "# Задача 6\n",
        "Написать функцию, принимающая целое положительное число. Функция должна вернуть\n",
        "строку вида “(n1**p1)(n2**p2)…(nk**pk)” представляющая разложение числа на простые\n",
        "множители (если pi == 1, то выводить только ni).\n",
        "Например, для числа 86240 функция должна вернуть “(2**5)(5)(7**2)(11)”. Написать тесты для кода"
      ]
    },
    {
      "cell_type": "code",
      "execution_count": 32,
      "metadata": {
        "id": "pFebmcZk94Jw"
      },
      "outputs": [],
      "source": [
        "def prime_factors(n):\n",
        "    factors = {}\n",
        "    divisor = 2\n",
        "    while divisor * divisor <= n:\n",
        "        while n % divisor == 0:\n",
        "            factors[divisor] = factors.get(divisor, 0) + 1\n",
        "            n = n // divisor\n",
        "        divisor += 1\n",
        "    if n > 1:\n",
        "        factors[n] = 1\n",
        "    parts = []\n",
        "    for p in sorted(factors.keys()):\n",
        "        exp = factors[p]\n",
        "        if exp == 1:\n",
        "            parts.append(f\"({p})\")\n",
        "        else:\n",
        "            parts.append(f\"({p}**{exp})\")\n",
        "    return ''.join(parts)\n",
        "\n",
        "# Тесты для задачи 6\n",
        "assert prime_factors(86240) == \"(2**5)(5)(7**2)(11)\"\n",
        "assert prime_factors(12) == \"(2**2)(3)\"\n",
        "assert prime_factors(7) == \"(7)\"\n",
        "assert prime_factors(1) == \"\""
      ]
    },
    {
      "cell_type": "markdown",
      "metadata": {
        "id": "ps2s0BudX7A2"
      },
      "source": [
        "# Задача 7\n",
        "Написать функцию, принимающая целое число n, задающее количество кубиков. Функция\n",
        "должна определить, можно ли из данного кол-ва кубиков построить пирамиду, то есть\n",
        "можно ли представить число n как 1^2+2^2+3^2+…+k^2. Если можно, то функция должна\n",
        "вернуть k, иначе строку “It is impossible”. Написать тесты для кода"
      ]
    },
    {
      "cell_type": "code",
      "execution_count": 33,
      "metadata": {
        "id": "3YPjEXxhX_YT"
      },
      "outputs": [],
      "source": [
        "def pyramid(number):\n",
        "    total = 0\n",
        "    k = 0\n",
        "    while total < number:\n",
        "        k += 1\n",
        "        total += k ** 2\n",
        "    if total == number:\n",
        "        return k\n",
        "    else:\n",
        "        return \"It is impossible\"\n",
        "\n",
        "# Тесты для задачи 7\n",
        "assert pyramid(1) == 1\n",
        "assert pyramid(5) == 2  # 1 + 4 =5\n",
        "assert pyramid(14) == 3  # 1+4+9=14\n",
        "assert pyramid(3) == \"It is impossible\""
      ]
    },
    {
      "cell_type": "markdown",
      "metadata": {
        "id": "KeKgmIdAQMEJ"
      },
      "source": [
        "# Задача 8\n",
        "Функция принимает на вход положительное число и определяет является ли оно сбалансированным, т.е. сумма цифр до средних равна сумме цифр после. Средними в случае нечетного числа цифр считать одну цифру, в случае четного - две средних. Написать тесты для кода"
      ]
    },
    {
      "cell_type": "code",
      "execution_count": 34,
      "metadata": {
        "id": "gMAAqtqlQrZt"
      },
      "outputs": [],
      "source": [
        "def is_balanced(n):\n",
        "    s = str(n)\n",
        "    length = len(s)\n",
        "    if length % 2 == 0:\n",
        "        mid1 = (length // 2) - 1\n",
        "        mid2 = length // 2\n",
        "        left = s[:mid1]\n",
        "        right = s[mid2+1:]\n",
        "    else:\n",
        "        mid = length // 2\n",
        "        left = s[:mid]\n",
        "        right = s[mid+1:]\n",
        "    sum_left = sum(int(c) for c in left)\n",
        "    sum_right = sum(int(c) for c in right)\n",
        "    return sum_left == sum_right\n",
        "\n",
        "# Тесты для задачи 8\n",
        "assert is_balanced(12321) == True\n",
        "assert is_balanced(123) == False\n",
        "assert is_balanced(1234) == False\n",
        "assert is_balanced(1212) == False\n",
        "assert is_balanced(12) == True  # сумма левой и правой (пустых) равны 0\n",
        "assert is_balanced(1) == True\n",
        "assert is_balanced(123456) == False  # сумма 1+2 и 5+6 → 3 vs 11 → False"
      ]
    }
  ],
  "metadata": {
    "colab": {
      "provenance": []
    },
    "kernelspec": {
      "display_name": "Python 3",
      "name": "python3"
    },
    "language_info": {
      "codemirror_mode": {
        "name": "ipython",
        "version": 3
      },
      "file_extension": ".py",
      "mimetype": "text/x-python",
      "name": "python",
      "nbconvert_exporter": "python",
      "pygments_lexer": "ipython3",
      "version": "3.13.0"
    }
  },
  "nbformat": 4,
  "nbformat_minor": 0
}
